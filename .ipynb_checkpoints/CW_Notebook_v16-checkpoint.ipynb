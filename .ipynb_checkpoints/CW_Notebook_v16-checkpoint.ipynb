{
 "cells": [
  {
   "cell_type": "markdown",
   "metadata": {
    "deletable": true,
    "editable": true
   },
   "source": [
    "# INM432: Big Data - Coursework (Part II)\n",
    "\n",
    "## Predicting shifts in GBP-EUR exchange rates based on the content of UK parliamentary debates: A pySpark application"
   ]
  },
  {
   "cell_type": "markdown",
   "metadata": {
    "deletable": true,
    "editable": true
   },
   "source": [
    "### Alexandros Dimitrios Nalmpantis; Georgios Kyriakopoulos (2017)"
   ]
  },
  {
   "cell_type": "markdown",
   "metadata": {
    "deletable": true,
    "editable": true
   },
   "source": [
    "**Abstract_** This notebook presents pySpark code that implements a machine-learning pipeline, which (a) scrapes and processes daily reports on debates at the House of Commons and the House of Lords; (b) scrapes daily GBP-EUR exchange rates and calculates their day-to-day shifts; and (c) links the two to train a regression-based algorithm that predicts the latter from the former. The analysis focuses on the prediction exchange-rate shifts(instead of raw exchange rates) to overcome the implications of autocorrelation for the modelling process. Alternative model hyperparameters are systematically assessed using a grid-search approach, which involves training, validating, and testing the performance of alternative model specifications.   "
   ]
  },
  {
   "cell_type": "markdown",
   "metadata": {
    "deletable": true,
    "editable": true
   },
   "source": [
    "## 1. Modules"
   ]
  },
  {
   "cell_type": "markdown",
   "metadata": {
    "deletable": true,
    "editable": true
   },
   "source": [
    "* Modules needed for the analysis are imported below. Some modules may need to be installed with the following commands to a termninal: **pip install <\"name of module\">** eg: pip install tqdm  or **with conda install <\"name of module\">** eg: conda install tqdm"
   ]
  },
  {
   "cell_type": "code",
   "execution_count": 225,
   "metadata": {
    "collapsed": false,
    "deletable": true,
    "editable": true
   },
   "outputs": [],
   "source": [
    "# Import modules for scraping links\n",
    "from bs4 import BeautifulSoup\n",
    "import urllib.request\n",
    "import re\n",
    "import datetime\n",
    "from datetime import date,timedelta\n",
    "import os\n",
    "\n",
    "# Import modules for downloading links\n",
    "import wget\n",
    "import pandas as pd\n",
    "\n",
    "# Import modules for parsing pdf's,progress bars and handling errors\n",
    "import warnings\n",
    "from tqdm import tnrange, tqdm_notebook\n",
    "from tika import parser\n",
    "warnings.filterwarnings(\"ignore\", category=UserWarning, module='bs4')\n",
    "\n",
    "# Import modules for spark ML and SQL\n",
    "import re\n",
    "from pyspark import SparkContext\n",
    "from pyspark.ml import *\n",
    "from pyspark.sql import *\n",
    "\n",
    "# import various operators\n",
    "from math import log\n",
    "import time\n",
    "from pprint import pprint\n",
    "import sys\n",
    "import matplotlib.pyplot as plt\n",
    "import stop_words\n",
    "\n",
    "# filter out warnings\n",
    "import warnings\n",
    "warnings.filterwarnings(\"ignore\")\n",
    "# Set sparkcontext as sc\n",
    "#sc=SparkContext()"
   ]
  },
  {
   "cell_type": "markdown",
   "metadata": {
    "deletable": true,
    "editable": true
   },
   "source": [
    "## 2. Data collection and pre-processing"
   ]
  },
  {
   "cell_type": "markdown",
   "metadata": {
    "deletable": true,
    "editable": true
   },
   "source": [
    "###     2.1 Defining and calling wrapped procedures from scraping, downloading and converting parliamentary debates to text files\n"
   ]
  },
  {
   "cell_type": "code",
   "execution_count": 72,
   "metadata": {
    "collapsed": false
   },
   "outputs": [],
   "source": [
    "# Define if report data were provided ( yes - data were provided, no - data need to be scraped)\n",
    "trg='no'\n",
    "\n",
    "    # set from which date to current date that the function will download reports in YYYY-M-D format below\n",
    "start_date = date(2016, 6, 23)\n"
   ]
  },
  {
   "cell_type": "code",
   "execution_count": 73,
   "metadata": {
    "collapsed": false,
    "deletable": true,
    "editable": true
   },
   "outputs": [
    {
     "data": {
      "application/vnd.jupyter.widget-view+json": {
       "model_id": "d33781b14d764ca399bde56f6380db7c"
      }
     },
     "metadata": {},
     "output_type": "display_data"
    },
    {
     "name": "stdout",
     "output_type": "stream",
     "text": [
      "\n"
     ]
    },
    {
     "data": {
      "application/vnd.jupyter.widget-view+json": {
       "model_id": "c0ad37f2b0774b98b99515e4d634c780"
      }
     },
     "metadata": {},
     "output_type": "display_data"
    },
    {
     "name": "stdout",
     "output_type": "stream",
     "text": [
      "\n"
     ]
    },
    {
     "data": {
      "application/vnd.jupyter.widget-view+json": {
       "model_id": "c84a42cd679443b2b653ab5b446b12b6"
      }
     },
     "metadata": {},
     "output_type": "display_data"
    },
    {
     "name": "stderr",
     "output_type": "stream",
     "text": [
      "2017-04-22 19:06:08,513 [MainThread  ] [INFO ]  Retrieving http://search.maven.org/remotecontent?filepath=org/apache/tika/tika-server/1.14/tika-server-1.14.jar to /var/folders/0c/dkmpfbdd6h96whwytkxqnp880000gp/T/tika-server.jar.\n",
      "2017-04-22 19:06:21,510 [MainThread  ] [INFO ]  Retrieving http://search.maven.org/remotecontent?filepath=org/apache/tika/tika-server/1.14/tika-server-1.14.jar.md5 to /var/folders/0c/dkmpfbdd6h96whwytkxqnp880000gp/T/tika-server.jar.md5.\n"
     ]
    },
    {
     "name": "stdout",
     "output_type": "stream",
     "text": [
      "\n",
      "==Downloading and conversion to text files completed==\n"
     ]
    }
   ],
   "source": [
    "# Data control function that controls wether the data will be scraped or were provided by students\n",
    "def data_control(page,start_date,trg):\n",
    "    if trg=='yes':\n",
    "        os.chdir(os.getcwd)\n",
    "    else:\n",
    "        html_page = urllib.request.urlopen(page) #request page with urllib packages\n",
    "        soup = BeautifulSoup(html_page) #pass the page to beautiful soup in order to extract the links contained in webpage \n",
    "        #print (soup) #visually inspect the html structure\n",
    "        hl = [] #set hyperlink array to store the extracted links\n",
    "        ##search html for hyperlinks starting with qna\n",
    "        for hyperlink in soup.findAll('a', attrs={'href': re.compile(\"^http://qna\")}): \n",
    "            hl.append(hyperlink.get('href')) #store the hyperlinks found on an array\n",
    "        #    print (link.get('href'))\n",
    "        \n",
    "        url=[hl[1][:-20]+'Lords-',hl[1][:-20]+'Commons-'] #take first result and cut the dates and category of either lords or commons\n",
    "    \n",
    "        #date interval search set and downloading of the pdf files\n",
    "        ##create interval search date\n",
    "        today=datetime.datetime.today() #today's date set\n",
    "        cur_date = date(today.year,today.month,today.day)  # set current date in format of YYYY-MM-DD\n",
    "    \n",
    "        dt = cur_date - start_date #calculate interval in days to use for loop\n",
    "        #make directory to downloaded files\n",
    "        try:\n",
    "            os.makedirs(os.getcwd()+'/parliament_practicals') #make directory to downloaded files\n",
    "        except:\n",
    "            pass\n",
    "    \n",
    "        #loop throught the interval with 1 day step and append the date to url along with categories of either house of Lords or Commons\n",
    "        for ul in url:\n",
    "        #    print ('Downloading: ',str('House of '+ul[112:-2]+'s'))\n",
    "            for i in tnrange(dt.days + 1,desc='Downloading: '+str(ul[112:-2]+'s')):\n",
    "                try: #test for errors and pass since there are dates that the House of Lords do not convene and HTTP request returns error; Also store results on folder parliament practicals\n",
    "                    filename = wget.download(ul+str(start_date + timedelta(days=i))+'.pdf',os.getcwd()+'/parliament_practicals')\n",
    "                except:\n",
    "                    next  \n",
    "    \n",
    "# function to convert the downloaded pdfs to text files\n",
    "def convert_pdf_to_text(trg):\n",
    "    if trg=='yes': # user input in case data are already given in appropriate format\n",
    "        print ('====Data were given====')\n",
    "    else:\n",
    "        try: # test if directory textfiles already exists otherwise make the directory\n",
    "            os.makedirs(os.getcwd()+'/textfiles') #make directory to downloaded files\n",
    "        except:\n",
    "            pass\n",
    "        list_of_files=os.listdir(os.getcwd()+'/parliament_practicals') # create a list of pdf files to be converted\n",
    "        for i in tnrange(len(list_of_files),desc='Converting pdf to txt'): # iterate throught the files on the list and install progress bar\n",
    "            if list_of_files[i].endswith(\".pdf\"): # check that file input is pdf file\n",
    "                parsedPDF=parser.from_file(os.getcwd()+'/parliament_practicals/'+list_of_files[i]) # parse pdf file\n",
    "                text_file = open(os.getcwd()+'/textfiles/'+list_of_files[i][:-4]+'.txt', 'a') # create new filename with extension .txt\n",
    "                text_file.write(parsedPDF[\"content\"]) # write parsed pdf to text\n",
    "                text_file.close() # close text file\n",
    "            else: # if file other than pdf continue loop\n",
    "                next\n",
    "def download_practicals_convert(start_date,trg):\n",
    "    page=\"http://www.parliament.uk/business/publications/written-questions-answers-statements/daily-reports/\" # set link to parliament daily questions and answers reports\n",
    "    data_control(page,start_date,trg) # call set data function\n",
    "    convert_pdf_to_text(trg)# convert to pdf function\n",
    "    print ('==Downloading and conversion to text files completed==')\n",
    "    \n",
    "    # Call function to either download the data or set current folder as working folder...please make sure that\n",
    "    # if data are give then those should be stored on the folder: 'parliament_practicals'\n",
    "    # We suggest to run the scraping function since it only takes 2minutes for downloading a year of reports   \n",
    "download_practicals_convert(start_date,trg) "
   ]
  },
  {
   "cell_type": "markdown",
   "metadata": {
    "deletable": true,
    "editable": true
   },
   "source": [
    "### 2.2 Defining and calling wrapped procedures for scraping, downloading and converting time-series exchange-rate shifts to a dataframe"
   ]
  },
  {
   "cell_type": "code",
   "execution_count": 151,
   "metadata": {
    "collapsed": true
   },
   "outputs": [],
   "source": [
    "# Define if exchange rate data were provided ( yes - data were provided, no - data need to be scraped)\n",
    "trg='yes' # change this value to yes or no"
   ]
  },
  {
   "cell_type": "code",
   "execution_count": 153,
   "metadata": {
    "collapsed": false,
    "deletable": true,
    "editable": true
   },
   "outputs": [
    {
     "name": "stdout",
     "output_type": "stream",
     "text": [
      "====Data were given====\n",
      "         Date    Rate\n",
      "0  1999-01-04 -0.0019\n",
      "1  1999-01-05  0.0082\n",
      "2  1999-01-06  0.0007\n",
      "3  1999-01-07  0.0068\n",
      "4  1999-01-08  0.0011\n"
     ]
    }
   ],
   "source": [
    "# define function to download exchange rates to text file in folder xr\n",
    "# Clean exchange data download function and transform to pandas dataframe\n",
    "def clean_ex(file_path):\n",
    "    data = pd.read_csv(file_path,sep=\" t \",header=None, encoding=\"ISO-8859-1\") # load the text file\n",
    "    data = data.loc[4:,:] # remove headers\n",
    "    data.reset_index() # reset indices\n",
    "    rate=data.iloc[::2] # extract odd rows\n",
    "    date=data.iloc[1::2] # extract even rows\n",
    "    date.reset_index(inplace=True,drop=True) # reset indices\n",
    "    rate.reset_index(inplace=True,drop=True) # reset indices\n",
    "    x=pd.concat([date,rate],axis=1) # concatenate date and rates\n",
    "    x.columns=['Rate','Date'] # rename columns\n",
    "    x=x.dropna()# drop na\n",
    "    x['Date'] = pd.to_datetime(x['Date']) # convert date column to date\n",
    "    x[['Rate']] = x[['Rate']].apply(pd.to_numeric) #convert exchange rate to float\n",
    "    x.dtypes #check data types\n",
    "    x = x.set_index('Date').diff() # calculate [rate(t+1) - rate(t)]\n",
    "    x.reset_index(inplace=True)# reset Date column\n",
    "    x['Date']=x['Date'].dt.strftime('%Y-%m-%d')# convert to string for join matching operations\n",
    "    x.Rate = x.Rate.shift(-1)# shift rate column by one day to account for the delay of the parliament report\n",
    "    x=x.dropna()# drop na\n",
    "    x.to_csv(os.getcwd()+'/xr/exchangeRates_diff.csv')# save to csv file\n",
    "    return x # return dataframe\n",
    "\n",
    "def download_xr(trg):\n",
    "    html= urllib.request.urlopen(\"http://www.bankofengland.co.uk/boeapps/iadb/fromshowcolumns.asp?Travel=NIxIRxSUx&FromSeries=1&ToSeries=50&DAT=RNG&FD=1&FM=Jan&FY=1963&TD=11&TM=Apr&TY=2017&VFD=Y&CSVF=TT&C=C8J&Filter=N&html.x=11&html.y=9\")\n",
    "    if trg=='yes': # user input in case data are already given in appropriate format\n",
    "        print ('====Data were given====')\n",
    "        data=clean_ex(os.getcwd()+'/xr/exchangeRates.txt')\n",
    "    else:\n",
    "        try: # test if directory xr already exists otherwise make the directory\n",
    "            os.makedirs(os.getcwd()+'/xr') #make directory to downloaded files\n",
    "        except:\n",
    "            pass\n",
    "        soup_xr = BeautifulSoup(html)\n",
    "        xr = soup_xr.get_text()\n",
    "        #print(xr)\n",
    "        text_xr = open(os.getcwd()+'/xr/'+'exchangeRates'+'.txt', \"a\")\n",
    "        text_xr.write(xr)\n",
    "        text_xr.close()\n",
    "        data=clean_ex(os.getcwd()+'/xr/exchangeRates.txt')\n",
    "        next\n",
    "    return data\n",
    "\n",
    "data_xr = download_xr(trg)\n",
    "print(data_xr.head()) # print head"
   ]
  },
  {
   "cell_type": "code",
   "execution_count": 226,
   "metadata": {
    "collapsed": true
   },
   "outputs": [],
   "source": [
    "# add libraries for ploting\n",
    "from bokeh import *\n",
    "from bokeh.charts import Line, show, output_file\n",
    "from bokeh.io import output_notebook\n",
    "from bokeh.plotting import figure,show,hplot"
   ]
  },
  {
   "cell_type": "code",
   "execution_count": 227,
   "metadata": {
    "collapsed": false
   },
   "outputs": [
    {
     "data": {
      "text/html": [
       "\n",
       "    <div class=\"bk-root\">\n",
       "        <a href=\"http://bokeh.pydata.org\" target=\"_blank\" class=\"bk-logo bk-logo-small bk-logo-notebook\"></a>\n",
       "        <span id=\"59c71d24-0b78-4789-833d-b1047af2632b\">Loading BokehJS ...</span>\n",
       "    </div>"
      ]
     },
     "metadata": {},
     "output_type": "display_data"
    },
    {
     "data": {
      "application/javascript": [
       "\n",
       "(function(global) {\n",
       "  function now() {\n",
       "    return new Date();\n",
       "  }\n",
       "\n",
       "  var force = true;\n",
       "\n",
       "  if (typeof (window._bokeh_onload_callbacks) === \"undefined\" || force === true) {\n",
       "    window._bokeh_onload_callbacks = [];\n",
       "    window._bokeh_is_loading = undefined;\n",
       "  }\n",
       "\n",
       "\n",
       "  \n",
       "  if (typeof (window._bokeh_timeout) === \"undefined\" || force === true) {\n",
       "    window._bokeh_timeout = Date.now() + 5000;\n",
       "    window._bokeh_failed_load = false;\n",
       "  }\n",
       "\n",
       "  var NB_LOAD_WARNING = {'data': {'text/html':\n",
       "     \"<div style='background-color: #fdd'>\\n\"+\n",
       "     \"<p>\\n\"+\n",
       "     \"BokehJS does not appear to have successfully loaded. If loading BokehJS from CDN, this \\n\"+\n",
       "     \"may be due to a slow or bad network connection. Possible fixes:\\n\"+\n",
       "     \"</p>\\n\"+\n",
       "     \"<ul>\\n\"+\n",
       "     \"<li>re-rerun `output_notebook()` to attempt to load from CDN again, or</li>\\n\"+\n",
       "     \"<li>use INLINE resources instead, as so:</li>\\n\"+\n",
       "     \"</ul>\\n\"+\n",
       "     \"<code>\\n\"+\n",
       "     \"from bokeh.resources import INLINE\\n\"+\n",
       "     \"output_notebook(resources=INLINE)\\n\"+\n",
       "     \"</code>\\n\"+\n",
       "     \"</div>\"}};\n",
       "\n",
       "  function display_loaded() {\n",
       "    if (window.Bokeh !== undefined) {\n",
       "      document.getElementById(\"59c71d24-0b78-4789-833d-b1047af2632b\").textContent = \"BokehJS successfully loaded.\";\n",
       "    } else if (Date.now() < window._bokeh_timeout) {\n",
       "      setTimeout(display_loaded, 100)\n",
       "    }\n",
       "  }\n",
       "\n",
       "  function run_callbacks() {\n",
       "    window._bokeh_onload_callbacks.forEach(function(callback) { callback() });\n",
       "    delete window._bokeh_onload_callbacks\n",
       "    console.info(\"Bokeh: all callbacks have finished\");\n",
       "  }\n",
       "\n",
       "  function load_libs(js_urls, callback) {\n",
       "    window._bokeh_onload_callbacks.push(callback);\n",
       "    if (window._bokeh_is_loading > 0) {\n",
       "      console.log(\"Bokeh: BokehJS is being loaded, scheduling callback at\", now());\n",
       "      return null;\n",
       "    }\n",
       "    if (js_urls == null || js_urls.length === 0) {\n",
       "      run_callbacks();\n",
       "      return null;\n",
       "    }\n",
       "    console.log(\"Bokeh: BokehJS not loaded, scheduling load and callback at\", now());\n",
       "    window._bokeh_is_loading = js_urls.length;\n",
       "    for (var i = 0; i < js_urls.length; i++) {\n",
       "      var url = js_urls[i];\n",
       "      var s = document.createElement('script');\n",
       "      s.src = url;\n",
       "      s.async = false;\n",
       "      s.onreadystatechange = s.onload = function() {\n",
       "        window._bokeh_is_loading--;\n",
       "        if (window._bokeh_is_loading === 0) {\n",
       "          console.log(\"Bokeh: all BokehJS libraries loaded\");\n",
       "          run_callbacks()\n",
       "        }\n",
       "      };\n",
       "      s.onerror = function() {\n",
       "        console.warn(\"failed to load library \" + url);\n",
       "      };\n",
       "      console.log(\"Bokeh: injecting script tag for BokehJS library: \", url);\n",
       "      document.getElementsByTagName(\"head\")[0].appendChild(s);\n",
       "    }\n",
       "  };var element = document.getElementById(\"59c71d24-0b78-4789-833d-b1047af2632b\");\n",
       "  if (element == null) {\n",
       "    console.log(\"Bokeh: ERROR: autoload.js configured with elementid '59c71d24-0b78-4789-833d-b1047af2632b' but no matching script tag was found. \")\n",
       "    return false;\n",
       "  }\n",
       "\n",
       "  var js_urls = [\"https://cdn.pydata.org/bokeh/release/bokeh-0.12.4.min.js\", \"https://cdn.pydata.org/bokeh/release/bokeh-widgets-0.12.4.min.js\"];\n",
       "\n",
       "  var inline_js = [\n",
       "    function(Bokeh) {\n",
       "      Bokeh.set_log_level(\"info\");\n",
       "    },\n",
       "    \n",
       "    function(Bokeh) {\n",
       "      \n",
       "      document.getElementById(\"59c71d24-0b78-4789-833d-b1047af2632b\").textContent = \"BokehJS is loading...\";\n",
       "    },\n",
       "    function(Bokeh) {\n",
       "      console.log(\"Bokeh: injecting CSS: https://cdn.pydata.org/bokeh/release/bokeh-0.12.4.min.css\");\n",
       "      Bokeh.embed.inject_css(\"https://cdn.pydata.org/bokeh/release/bokeh-0.12.4.min.css\");\n",
       "      console.log(\"Bokeh: injecting CSS: https://cdn.pydata.org/bokeh/release/bokeh-widgets-0.12.4.min.css\");\n",
       "      Bokeh.embed.inject_css(\"https://cdn.pydata.org/bokeh/release/bokeh-widgets-0.12.4.min.css\");\n",
       "    }\n",
       "  ];\n",
       "\n",
       "  function run_inline_js() {\n",
       "    \n",
       "    if ((window.Bokeh !== undefined) || (force === true)) {\n",
       "      for (var i = 0; i < inline_js.length; i++) {\n",
       "        inline_js[i](window.Bokeh);\n",
       "      }if (force === true) {\n",
       "        display_loaded();\n",
       "      }} else if (Date.now() < window._bokeh_timeout) {\n",
       "      setTimeout(run_inline_js, 100);\n",
       "    } else if (!window._bokeh_failed_load) {\n",
       "      console.log(\"Bokeh: BokehJS failed to load within specified timeout.\");\n",
       "      window._bokeh_failed_load = true;\n",
       "    } else if (force !== true) {\n",
       "      var cell = $(document.getElementById(\"59c71d24-0b78-4789-833d-b1047af2632b\")).parents('.cell').data().cell;\n",
       "      cell.output_area.append_execute_result(NB_LOAD_WARNING)\n",
       "    }\n",
       "\n",
       "  }\n",
       "\n",
       "  if (window._bokeh_is_loading === 0) {\n",
       "    console.log(\"Bokeh: BokehJS loaded, going straight to plotting\");\n",
       "    run_inline_js();\n",
       "  } else {\n",
       "    load_libs(js_urls, function() {\n",
       "      console.log(\"Bokeh: BokehJS plotting callback run at\", now());\n",
       "      run_inline_js();\n",
       "    });\n",
       "  }\n",
       "}(this));"
      ]
     },
     "metadata": {},
     "output_type": "display_data"
    }
   ],
   "source": [
    "# bound bokeh to notebook\n",
    "output_notebook()"
   ]
  },
  {
   "cell_type": "code",
   "execution_count": 234,
   "metadata": {
    "collapsed": false
   },
   "outputs": [
    {
     "data": {
      "text/html": [
       "\n",
       "\n",
       "    <div class=\"bk-root\">\n",
       "        <div class=\"bk-plotdiv\" id=\"c4f88ecd-ad8f-436c-9ea5-a176b706217c\"></div>\n",
       "    </div>\n",
       "<script type=\"text/javascript\">\n",
       "  \n",
       "  (function(global) {\n",
       "    function now() {\n",
       "      return new Date();\n",
       "    }\n",
       "  \n",
       "    var force = false;\n",
       "  \n",
       "    if (typeof (window._bokeh_onload_callbacks) === \"undefined\" || force === true) {\n",
       "      window._bokeh_onload_callbacks = [];\n",
       "      window._bokeh_is_loading = undefined;\n",
       "    }\n",
       "  \n",
       "  \n",
       "    \n",
       "    if (typeof (window._bokeh_timeout) === \"undefined\" || force === true) {\n",
       "      window._bokeh_timeout = Date.now() + 0;\n",
       "      window._bokeh_failed_load = false;\n",
       "    }\n",
       "  \n",
       "    var NB_LOAD_WARNING = {'data': {'text/html':\n",
       "       \"<div style='background-color: #fdd'>\\n\"+\n",
       "       \"<p>\\n\"+\n",
       "       \"BokehJS does not appear to have successfully loaded. If loading BokehJS from CDN, this \\n\"+\n",
       "       \"may be due to a slow or bad network connection. Possible fixes:\\n\"+\n",
       "       \"</p>\\n\"+\n",
       "       \"<ul>\\n\"+\n",
       "       \"<li>re-rerun `output_notebook()` to attempt to load from CDN again, or</li>\\n\"+\n",
       "       \"<li>use INLINE resources instead, as so:</li>\\n\"+\n",
       "       \"</ul>\\n\"+\n",
       "       \"<code>\\n\"+\n",
       "       \"from bokeh.resources import INLINE\\n\"+\n",
       "       \"output_notebook(resources=INLINE)\\n\"+\n",
       "       \"</code>\\n\"+\n",
       "       \"</div>\"}};\n",
       "  \n",
       "    function display_loaded() {\n",
       "      if (window.Bokeh !== undefined) {\n",
       "        document.getElementById(\"c4f88ecd-ad8f-436c-9ea5-a176b706217c\").textContent = \"BokehJS successfully loaded.\";\n",
       "      } else if (Date.now() < window._bokeh_timeout) {\n",
       "        setTimeout(display_loaded, 100)\n",
       "      }\n",
       "    }\n",
       "  \n",
       "    function run_callbacks() {\n",
       "      window._bokeh_onload_callbacks.forEach(function(callback) { callback() });\n",
       "      delete window._bokeh_onload_callbacks\n",
       "      console.info(\"Bokeh: all callbacks have finished\");\n",
       "    }\n",
       "  \n",
       "    function load_libs(js_urls, callback) {\n",
       "      window._bokeh_onload_callbacks.push(callback);\n",
       "      if (window._bokeh_is_loading > 0) {\n",
       "        console.log(\"Bokeh: BokehJS is being loaded, scheduling callback at\", now());\n",
       "        return null;\n",
       "      }\n",
       "      if (js_urls == null || js_urls.length === 0) {\n",
       "        run_callbacks();\n",
       "        return null;\n",
       "      }\n",
       "      console.log(\"Bokeh: BokehJS not loaded, scheduling load and callback at\", now());\n",
       "      window._bokeh_is_loading = js_urls.length;\n",
       "      for (var i = 0; i < js_urls.length; i++) {\n",
       "        var url = js_urls[i];\n",
       "        var s = document.createElement('script');\n",
       "        s.src = url;\n",
       "        s.async = false;\n",
       "        s.onreadystatechange = s.onload = function() {\n",
       "          window._bokeh_is_loading--;\n",
       "          if (window._bokeh_is_loading === 0) {\n",
       "            console.log(\"Bokeh: all BokehJS libraries loaded\");\n",
       "            run_callbacks()\n",
       "          }\n",
       "        };\n",
       "        s.onerror = function() {\n",
       "          console.warn(\"failed to load library \" + url);\n",
       "        };\n",
       "        console.log(\"Bokeh: injecting script tag for BokehJS library: \", url);\n",
       "        document.getElementsByTagName(\"head\")[0].appendChild(s);\n",
       "      }\n",
       "    };var element = document.getElementById(\"c4f88ecd-ad8f-436c-9ea5-a176b706217c\");\n",
       "    if (element == null) {\n",
       "      console.log(\"Bokeh: ERROR: autoload.js configured with elementid 'c4f88ecd-ad8f-436c-9ea5-a176b706217c' but no matching script tag was found. \")\n",
       "      return false;\n",
       "    }\n",
       "  \n",
       "    var js_urls = [];\n",
       "  \n",
       "    var inline_js = [\n",
       "      function(Bokeh) {\n",
       "        (function() {\n",
       "          var fn = function() {\n",
       "            var docs_json = {\"85162209-e72d-4475-b2a4-1678d7145cc1\":{\"roots\":{\"references\":[{\"attributes\":{\"callback\":null,\"column_names\":[\"x\",\"y\"],\"data\":{\"x\":{\"__ndarray__\":\"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\",\"dtype\":\"float64\",\"shape\":[203]},\"y\":{\"__ndarray__\":\"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\",\"dtype\":\"float64\",\"shape\":[203]}}},\"id\":\"8cbb88e8-e113-455d-a6bc-69b2d0967e5f\",\"type\":\"ColumnDataSource\"},{\"attributes\":{\"line_color\":{\"value\":\"#1f77b4\"},\"x\":{\"field\":\"x\"},\"y\":{\"field\":\"y\"}},\"id\":\"ae8ee5bc-3497-4991-b8a0-60543b2bb0f7\",\"type\":\"Line\"},{\"attributes\":{\"days\":[1,4,7,10,13,16,19,22,25,28]},\"id\":\"a7465125-2b3f-4882-a30b-6240982f2388\",\"type\":\"DaysTicker\"},{\"attributes\":{\"line_alpha\":{\"value\":0.1},\"line_color\":{\"value\":\"#1f77b4\"},\"x\":{\"field\":\"x\"},\"y\":{\"field\":\"y\"}},\"id\":\"f2f437f1-f1e5-4c40-ac7b-4ff864b72129\",\"type\":\"Line\"},{\"attributes\":{\"line_alpha\":{\"value\":0.1},\"line_color\":{\"value\":\"#1f77b4\"},\"x\":{\"field\":\"x\"},\"y\":{\"field\":\"y\"}},\"id\":\"ced05231-8e91-4d89-9ead-738d0341f5cd\",\"type\":\"Line\"},{\"attributes\":{\"items\":[{\"id\":\"139454cd-c0d5-42f0-9d1c-1f4ace721b39\",\"type\":\"LegendItem\"},{\"id\":\"56fe5af5-df7f-468e-a31f-9f1d6d7b6229\",\"type\":\"LegendItem\"}],\"plot\":{\"id\":\"f358df95-e15c-488a-9fe3-a0289f890263\",\"subtype\":\"Figure\",\"type\":\"Plot\"}},\"id\":\"788c1674-40e2-4e3a-990c-c8006170c6f0\",\"type\":\"Legend\"},{\"attributes\":{\"axis_label\":\"Day on day difference\",\"formatter\":{\"id\":\"81fe1a30-79ee-496a-bbfa-b1146a121285\",\"type\":\"BasicTickFormatter\"},\"plot\":{\"id\":\"f358df95-e15c-488a-9fe3-a0289f890263\",\"subtype\":\"Figure\",\"type\":\"Plot\"},\"ticker\":{\"id\":\"33690c26-9a21-40fc-8992-8e2e60774c12\",\"type\":\"BasicTicker\"}},\"id\":\"4801bd01-0a36-49c1-b53d-9ad803d1a178\",\"type\":\"LinearAxis\"},{\"attributes\":{\"background_fill_color\":{\"value\":\"beige\"},\"below\":[{\"id\":\"fb97dcb6-0590-40da-bdaf-5ac6fe8083d7\",\"type\":\"DatetimeAxis\"}],\"border_fill_color\":{\"value\":\"whitesmoke\"},\"left\":[{\"id\":\"4801bd01-0a36-49c1-b53d-9ad803d1a178\",\"type\":\"LinearAxis\"}],\"plot_height\":450,\"plot_width\":470,\"renderers\":[{\"id\":\"fb97dcb6-0590-40da-bdaf-5ac6fe8083d7\",\"type\":\"DatetimeAxis\"},{\"id\":\"da3c57ab-31df-4c97-bdea-dc40a4de94a8\",\"type\":\"Grid\"},{\"id\":\"4801bd01-0a36-49c1-b53d-9ad803d1a178\",\"type\":\"LinearAxis\"},{\"id\":\"1dd0918e-cb3b-447e-ba0e-1098cd5498ab\",\"type\":\"Grid\"},{\"id\":\"c92914fd-0afe-49b4-8220-ac5f7287afe3\",\"type\":\"BoxAnnotation\"},{\"id\":\"788c1674-40e2-4e3a-990c-c8006170c6f0\",\"type\":\"Legend\"},{\"id\":\"1e0957ed-93b4-4981-9ab0-89868aefc15b\",\"type\":\"GlyphRenderer\"},{\"id\":\"5baebb9a-8902-4d56-9522-6608232d556c\",\"type\":\"GlyphRenderer\"}],\"title\":{\"id\":\"447c06c6-5a4c-442f-963a-70acc52a6af9\",\"type\":\"Title\"},\"tool_events\":{\"id\":\"70745e96-0ff9-4be3-99be-9f3f86a44359\",\"type\":\"ToolEvents\"},\"toolbar\":{\"id\":\"3ece3ae0-e88d-416d-b644-26816ca77338\",\"type\":\"Toolbar\"},\"x_range\":{\"id\":\"3dc22968-dd55-4b95-ba0d-de90d4b7f498\",\"type\":\"DataRange1d\"},\"y_range\":{\"id\":\"10b46614-4d23-4c01-b244-8ae164002551\",\"type\":\"DataRange1d\"}},\"id\":\"f358df95-e15c-488a-9fe3-a0289f890263\",\"subtype\":\"Figure\",\"type\":\"Plot\"},{\"attributes\":{\"line_alpha\":{\"value\":0.1},\"line_color\":{\"value\":\"#1f77b4\"},\"x\":{\"field\":\"x\"},\"y\":{\"field\":\"y\"}},\"id\":\"817f558d-7057-4851-8011-c050ad66ca4b\",\"type\":\"Line\"},{\"attributes\":{\"max_interval\":500.0,\"num_minor_ticks\":0},\"id\":\"830241d8-0b81-49d4-a70d-8c433da592df\",\"type\":\"AdaptiveTicker\"},{\"attributes\":{\"plot\":null,\"text\":\"Exchange rate day difference (\\u00a3 to Euro)\"},\"id\":\"c356bc0f-e269-4346-8030-5aa3a97d9646\",\"type\":\"Title\"},{\"attributes\":{\"line_alpha\":{\"value\":0.1},\"line_color\":{\"value\":\"#1f77b4\"},\"x\":{\"field\":\"x\"},\"y\":{\"field\":\"y\"}},\"id\":\"bd3221ee-1e22-4638-9811-1075cc14be06\",\"type\":\"Line\"},{\"attributes\":{\"axis_label\":\"Day on day difference\",\"formatter\":{\"id\":\"8af58243-60c6-49c7-b440-eac06ee47675\",\"type\":\"BasicTickFormatter\"},\"plot\":{\"id\":\"2c974156-13d0-4681-8cae-ccc0fb537ca7\",\"subtype\":\"Figure\",\"type\":\"Plot\"},\"ticker\":{\"id\":\"ef59f22e-1b83-48a3-b4d1-d25772836597\",\"type\":\"BasicTicker\"}},\"id\":\"d418bb8e-9d81-4a6c-a45e-71dfbe9fc22e\",\"type\":\"LinearAxis\"},{\"attributes\":{\"items\":[{\"id\":\"8fd7de98-cfdd-4f43-bc17-5570b73cc090\",\"type\":\"LegendItem\"},{\"id\":\"959f855c-1b9f-4cf8-b0d1-c34c5aca3369\",\"type\":\"LegendItem\"}],\"plot\":{\"id\":\"2c974156-13d0-4681-8cae-ccc0fb537ca7\",\"subtype\":\"Figure\",\"type\":\"Plot\"}},\"id\":\"86d927f1-adf5-4f4b-831c-0eae721e36ab\",\"type\":\"Legend\"},{\"attributes\":{},\"id\":\"ef59f22e-1b83-48a3-b4d1-d25772836597\",\"type\":\"BasicTicker\"},{\"attributes\":{\"callback\":null},\"id\":\"10b46614-4d23-4c01-b244-8ae164002551\",\"type\":\"DataRange1d\"},{\"attributes\":{},\"id\":\"94c927ec-d6d1-43fb-aac5-78a3b4d8338f\",\"type\":\"YearsTicker\"},{\"attributes\":{},\"id\":\"70745e96-0ff9-4be3-99be-9f3f86a44359\",\"type\":\"ToolEvents\"},{\"attributes\":{},\"id\":\"8af58243-60c6-49c7-b440-eac06ee47675\",\"type\":\"BasicTickFormatter\"},{\"attributes\":{\"num_minor_ticks\":5},\"id\":\"49853bd1-c462-4ba0-a1cc-0f7e084fa568\",\"type\":\"DatetimeTicker\"},{\"attributes\":{\"label\":{\"value\":\"Rolling Mean (30 day window)\"},\"renderers\":[{\"id\":\"60ca8f82-084a-467b-ad1c-dcb8af956f72\",\"type\":\"GlyphRenderer\"}]},\"id\":\"959f855c-1b9f-4cf8-b0d1-c34c5aca3369\",\"type\":\"LegendItem\"},{\"attributes\":{\"label\":{\"value\":\"Rolling Mean (5 day window)\"},\"renderers\":[{\"id\":\"5baebb9a-8902-4d56-9522-6608232d556c\",\"type\":\"GlyphRenderer\"}]},\"id\":\"56fe5af5-df7f-468e-a31f-9f1d6d7b6229\",\"type\":\"LegendItem\"},{\"attributes\":{\"days\":[1,8,15,22]},\"id\":\"bb139709-6f9d-460a-98e8-d382429a6d98\",\"type\":\"DaysTicker\"},{\"attributes\":{\"line_color\":{\"value\":\"red\"},\"x\":{\"field\":\"x\"},\"y\":{\"field\":\"y\"}},\"id\":\"c9203185-1596-403f-a85a-e29ed37f2f8a\",\"type\":\"Line\"},{\"attributes\":{\"bottom_units\":\"screen\",\"fill_alpha\":{\"value\":0.5},\"fill_color\":{\"value\":\"lightgrey\"},\"left_units\":\"screen\",\"level\":\"overlay\",\"line_alpha\":{\"value\":1.0},\"line_color\":{\"value\":\"black\"},\"line_dash\":[4,4],\"line_width\":{\"value\":2},\"plot\":null,\"render_mode\":\"css\",\"right_units\":\"screen\",\"top_units\":\"screen\"},\"id\":\"c92914fd-0afe-49b4-8220-ac5f7287afe3\",\"type\":\"BoxAnnotation\"},{\"attributes\":{\"callback\":null,\"column_names\":[\"x\",\"y\"],\"data\":{\"x\":{\"__ndarray__\":\"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\",\"dtype\":\"float64\",\"shape\":[203]},\"y\":{\"__ndarray__\":\"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\",\"dtype\":\"float64\",\"shape\":[203]}}},\"id\":\"1f5470db-ef23-47eb-8d7b-b6a740200a7f\",\"type\":\"ColumnDataSource\"},{\"attributes\":{},\"id\":\"cc7f1ee8-05ba-4f96-8997-0f68dc1c0d92\",\"type\":\"YearsTicker\"},{\"attributes\":{\"data_source\":{\"id\":\"7ab30abf-f0bc-4487-bf79-c94f384613b3\",\"type\":\"ColumnDataSource\"},\"glyph\":{\"id\":\"6f1c8e39-7bba-4041-89d9-e241e1ae512e\",\"type\":\"Line\"},\"hover_glyph\":null,\"nonselection_glyph\":{\"id\":\"ced05231-8e91-4d89-9ead-738d0341f5cd\",\"type\":\"Line\"},\"selection_glyph\":null},\"id\":\"60ca8f82-084a-467b-ad1c-dcb8af956f72\",\"type\":\"GlyphRenderer\"},{\"attributes\":{\"plot\":{\"id\":\"2c974156-13d0-4681-8cae-ccc0fb537ca7\",\"subtype\":\"Figure\",\"type\":\"Plot\"}},\"id\":\"c02b1183-2050-49a4-97f0-ced5aa031e1e\",\"type\":\"SaveTool\"},{\"attributes\":{\"months\":[0,4,8]},\"id\":\"4d094cef-1afb-410c-a307-a21a532b52c5\",\"type\":\"MonthsTicker\"},{\"attributes\":{\"overlay\":{\"id\":\"c92914fd-0afe-49b4-8220-ac5f7287afe3\",\"type\":\"BoxAnnotation\"},\"plot\":{\"id\":\"f358df95-e15c-488a-9fe3-a0289f890263\",\"subtype\":\"Figure\",\"type\":\"Plot\"}},\"id\":\"0dfe4be8-7ed5-416f-be2c-da481ab18b00\",\"type\":\"BoxZoomTool\"},{\"attributes\":{\"plot\":{\"id\":\"2c974156-13d0-4681-8cae-ccc0fb537ca7\",\"subtype\":\"Figure\",\"type\":\"Plot\"},\"ticker\":{\"id\":\"49853bd1-c462-4ba0-a1cc-0f7e084fa568\",\"type\":\"DatetimeTicker\"}},\"id\":\"a2597e92-a565-4227-8366-977c099904fe\",\"type\":\"Grid\"},{\"attributes\":{},\"id\":\"ada76c95-1c03-45c9-8a11-390920753e7a\",\"type\":\"DatetimeTickFormatter\"},{\"attributes\":{\"plot\":{\"id\":\"f358df95-e15c-488a-9fe3-a0289f890263\",\"subtype\":\"Figure\",\"type\":\"Plot\"}},\"id\":\"2802a3af-90cf-4183-a331-455148734b2f\",\"type\":\"HelpTool\"},{\"attributes\":{\"axis_label\":\"Date\",\"formatter\":{\"id\":\"0063f525-c4a3-443c-9fb5-3bb569c5188e\",\"type\":\"DatetimeTickFormatter\"},\"plot\":{\"id\":\"f358df95-e15c-488a-9fe3-a0289f890263\",\"subtype\":\"Figure\",\"type\":\"Plot\"},\"ticker\":{\"id\":\"96abf32e-6041-47fd-9986-17ea1025414d\",\"type\":\"DatetimeTicker\"}},\"id\":\"fb97dcb6-0590-40da-bdaf-5ac6fe8083d7\",\"type\":\"DatetimeAxis\"},{\"attributes\":{\"plot\":{\"id\":\"f358df95-e15c-488a-9fe3-a0289f890263\",\"subtype\":\"Figure\",\"type\":\"Plot\"}},\"id\":\"d698036d-1df2-4259-acee-0852d45e5786\",\"type\":\"PanTool\"},{\"attributes\":{\"max_interval\":500.0,\"num_minor_ticks\":0},\"id\":\"84e0b33d-ce88-4015-b597-7f4862987e85\",\"type\":\"AdaptiveTicker\"},{\"attributes\":{\"label\":{\"value\":\"Absolute Values\"},\"renderers\":[{\"id\":\"5802130d-b0a9-4e57-b6d2-e087822e9b6a\",\"type\":\"GlyphRenderer\"}]},\"id\":\"8fd7de98-cfdd-4f43-bc17-5570b73cc090\",\"type\":\"LegendItem\"},{\"attributes\":{\"months\":[0,1,2,3,4,5,6,7,8,9,10,11]},\"id\":\"a5a5fc63-7cc5-4891-ac03-c6acfb2ea37a\",\"type\":\"MonthsTicker\"},{\"attributes\":{\"bottom_units\":\"screen\",\"fill_alpha\":{\"value\":0.5},\"fill_color\":{\"value\":\"lightgrey\"},\"left_units\":\"screen\",\"level\":\"overlay\",\"line_alpha\":{\"value\":1.0},\"line_color\":{\"value\":\"black\"},\"line_dash\":[4,4],\"line_width\":{\"value\":2},\"plot\":null,\"render_mode\":\"css\",\"right_units\":\"screen\",\"top_units\":\"screen\"},\"id\":\"92dc52ec-3d59-4df8-8b6b-156bdeea89bc\",\"type\":\"BoxAnnotation\"},{\"attributes\":{\"dimension\":1,\"plot\":{\"id\":\"f358df95-e15c-488a-9fe3-a0289f890263\",\"subtype\":\"Figure\",\"type\":\"Plot\"},\"ticker\":{\"id\":\"33690c26-9a21-40fc-8992-8e2e60774c12\",\"type\":\"BasicTicker\"}},\"id\":\"1dd0918e-cb3b-447e-ba0e-1098cd5498ab\",\"type\":\"Grid\"},{\"attributes\":{\"callback\":null},\"id\":\"3dc22968-dd55-4b95-ba0d-de90d4b7f498\",\"type\":\"DataRange1d\"},{\"attributes\":{\"data_source\":{\"id\":\"e63ad6b6-5613-4be2-b86a-3af60ea13516\",\"type\":\"ColumnDataSource\"},\"glyph\":{\"id\":\"c9203185-1596-403f-a85a-e29ed37f2f8a\",\"type\":\"Line\"},\"hover_glyph\":null,\"nonselection_glyph\":{\"id\":\"f2f437f1-f1e5-4c40-ac7b-4ff864b72129\",\"type\":\"Line\"},\"selection_glyph\":null},\"id\":\"5baebb9a-8902-4d56-9522-6608232d556c\",\"type\":\"GlyphRenderer\"},{\"attributes\":{\"base\":24,\"mantissas\":[1,2,4,6,8,12],\"max_interval\":43200000.0,\"min_interval\":3600000.0,\"num_minor_ticks\":0},\"id\":\"954df3e4-ae97-47cb-9e76-de74b3dc0b12\",\"type\":\"AdaptiveTicker\"},{\"attributes\":{\"num_minor_ticks\":5},\"id\":\"96abf32e-6041-47fd-9986-17ea1025414d\",\"type\":\"DatetimeTicker\"},{\"attributes\":{\"days\":[1,2,3,4,5,6,7,8,9,10,11,12,13,14,15,16,17,18,19,20,21,22,23,24,25,26,27,28,29,30,31]},\"id\":\"223d30ba-bc59-4b61-87af-6a20151aaa91\",\"type\":\"DaysTicker\"},{\"attributes\":{\"days\":[1,8,15,22]},\"id\":\"f08ddca2-6755-4b5b-8ef6-e80fa111b717\",\"type\":\"DaysTicker\"},{\"attributes\":{\"plot\":{\"id\":\"f358df95-e15c-488a-9fe3-a0289f890263\",\"subtype\":\"Figure\",\"type\":\"Plot\"}},\"id\":\"7848fce2-392c-48da-b4df-5b8c11fbfb63\",\"type\":\"SaveTool\"},{\"attributes\":{\"line_color\":{\"value\":\"#1f77b4\"},\"x\":{\"field\":\"x\"},\"y\":{\"field\":\"y\"}},\"id\":\"f58161fa-8fd8-4dd2-b1f6-883bd008bb04\",\"type\":\"Line\"},{\"attributes\":{},\"id\":\"0063f525-c4a3-443c-9fb5-3bb569c5188e\",\"type\":\"DatetimeTickFormatter\"},{\"attributes\":{\"callback\":null,\"column_names\":[\"x\",\"y\"],\"data\":{\"x\":{\"__ndarray__\":\"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\",\"dtype\":\"float64\",\"shape\":[203]},\"y\":{\"__ndarray__\":\"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\",\"dtype\":\"float64\",\"shape\":[203]}}},\"id\":\"e63ad6b6-5613-4be2-b86a-3af60ea13516\",\"type\":\"ColumnDataSource\"},{\"attributes\":{\"plot\":{\"id\":\"f358df95-e15c-488a-9fe3-a0289f890263\",\"subtype\":\"Figure\",\"type\":\"Plot\"}},\"id\":\"309401a8-8c91-4ad0-801d-2c8378d1e1f8\",\"type\":\"ResetTool\"},{\"attributes\":{\"days\":[1,2,3,4,5,6,7,8,9,10,11,12,13,14,15,16,17,18,19,20,21,22,23,24,25,26,27,28,29,30,31]},\"id\":\"3228556c-6cd5-4227-861d-57b772c3a600\",\"type\":\"DaysTicker\"},{\"attributes\":{\"line_color\":{\"value\":\"red\"},\"x\":{\"field\":\"x\"},\"y\":{\"field\":\"y\"}},\"id\":\"6f1c8e39-7bba-4041-89d9-e241e1ae512e\",\"type\":\"Line\"},{\"attributes\":{\"months\":[0,4,8]},\"id\":\"86abd5b1-f25e-4572-9e4e-8f68052d3940\",\"type\":\"MonthsTicker\"},{\"attributes\":{\"active_drag\":\"auto\",\"active_scroll\":\"auto\",\"active_tap\":\"auto\",\"tools\":[{\"id\":\"bb9b6ce9-91d3-46b2-91be-3f8a95cd56ad\",\"type\":\"PanTool\"},{\"id\":\"aca3b635-a757-4e49-a508-21db1f165c65\",\"type\":\"WheelZoomTool\"},{\"id\":\"32f829c6-ffff-4574-b1b7-80567a6f9cdc\",\"type\":\"BoxZoomTool\"},{\"id\":\"c02b1183-2050-49a4-97f0-ced5aa031e1e\",\"type\":\"SaveTool\"},{\"id\":\"e7a09819-0dff-4fbd-a26a-d95f2f9e1dda\",\"type\":\"ResetTool\"},{\"id\":\"b26abc2c-9690-45db-868b-a688d9d6db85\",\"type\":\"HelpTool\"}]},\"id\":\"77e2498b-b8db-4037-bf49-835801f8a1b3\",\"type\":\"Toolbar\"},{\"attributes\":{\"days\":[1,4,7,10,13,16,19,22,25,28]},\"id\":\"489c9ce8-682b-404e-8f8f-d5cffed713fb\",\"type\":\"DaysTicker\"},{\"attributes\":{\"base\":60,\"mantissas\":[1,2,5,10,15,20,30],\"max_interval\":1800000.0,\"min_interval\":1000.0,\"num_minor_ticks\":0},\"id\":\"45777c2a-f33a-43ec-9cbb-49c5874d0973\",\"type\":\"AdaptiveTicker\"},{\"attributes\":{\"children\":[{\"id\":\"f358df95-e15c-488a-9fe3-a0289f890263\",\"subtype\":\"Figure\",\"type\":\"Plot\"},{\"id\":\"2c974156-13d0-4681-8cae-ccc0fb537ca7\",\"subtype\":\"Figure\",\"type\":\"Plot\"}]},\"id\":\"9d311337-179c-4a4b-b218-b8da4347c629\",\"type\":\"Row\"},{\"attributes\":{\"plot\":{\"id\":\"2c974156-13d0-4681-8cae-ccc0fb537ca7\",\"subtype\":\"Figure\",\"type\":\"Plot\"}},\"id\":\"aca3b635-a757-4e49-a508-21db1f165c65\",\"type\":\"WheelZoomTool\"},{\"attributes\":{\"dimension\":1,\"plot\":{\"id\":\"2c974156-13d0-4681-8cae-ccc0fb537ca7\",\"subtype\":\"Figure\",\"type\":\"Plot\"},\"ticker\":{\"id\":\"ef59f22e-1b83-48a3-b4d1-d25772836597\",\"type\":\"BasicTicker\"}},\"id\":\"19104e37-c15d-4fef-93ac-8b080d4f1eb4\",\"type\":\"Grid\"},{\"attributes\":{\"overlay\":{\"id\":\"92dc52ec-3d59-4df8-8b6b-156bdeea89bc\",\"type\":\"BoxAnnotation\"},\"plot\":{\"id\":\"2c974156-13d0-4681-8cae-ccc0fb537ca7\",\"subtype\":\"Figure\",\"type\":\"Plot\"}},\"id\":\"32f829c6-ffff-4574-b1b7-80567a6f9cdc\",\"type\":\"BoxZoomTool\"},{\"attributes\":{},\"id\":\"81fe1a30-79ee-496a-bbfa-b1146a121285\",\"type\":\"BasicTickFormatter\"},{\"attributes\":{\"months\":[0,1,2,3,4,5,6,7,8,9,10,11]},\"id\":\"c64b205e-f024-4681-a1ae-3c14adb61be8\",\"type\":\"MonthsTicker\"},{\"attributes\":{\"days\":[1,15]},\"id\":\"7508444e-e290-4fa9-9089-936f06c2e9b8\",\"type\":\"DaysTicker\"},{\"attributes\":{\"plot\":{\"id\":\"2c974156-13d0-4681-8cae-ccc0fb537ca7\",\"subtype\":\"Figure\",\"type\":\"Plot\"}},\"id\":\"b26abc2c-9690-45db-868b-a688d9d6db85\",\"type\":\"HelpTool\"},{\"attributes\":{\"base\":60,\"mantissas\":[1,2,5,10,15,20,30],\"max_interval\":1800000.0,\"min_interval\":1000.0,\"num_minor_ticks\":0},\"id\":\"1ef7ea35-2f5b-47cd-be28-1489c3b21491\",\"type\":\"AdaptiveTicker\"},{\"attributes\":{\"months\":[0,2,4,6,8,10]},\"id\":\"74b09d08-66b4-4e08-9c62-a8b93e11a11d\",\"type\":\"MonthsTicker\"},{\"attributes\":{},\"id\":\"4a4e910b-d56a-4e4e-8b8e-a99e86a2f827\",\"type\":\"ToolEvents\"},{\"attributes\":{\"callback\":null},\"id\":\"58fcd4e6-b386-4c4a-bb9d-068de1ee8a6a\",\"type\":\"DataRange1d\"},{\"attributes\":{\"active_drag\":\"auto\",\"active_scroll\":\"auto\",\"active_tap\":\"auto\",\"tools\":[{\"id\":\"d698036d-1df2-4259-acee-0852d45e5786\",\"type\":\"PanTool\"},{\"id\":\"654a9161-8584-453c-a6b3-c543da34af13\",\"type\":\"WheelZoomTool\"},{\"id\":\"0dfe4be8-7ed5-416f-be2c-da481ab18b00\",\"type\":\"BoxZoomTool\"},{\"id\":\"7848fce2-392c-48da-b4df-5b8c11fbfb63\",\"type\":\"SaveTool\"},{\"id\":\"309401a8-8c91-4ad0-801d-2c8378d1e1f8\",\"type\":\"ResetTool\"},{\"id\":\"2802a3af-90cf-4183-a331-455148734b2f\",\"type\":\"HelpTool\"}]},\"id\":\"3ece3ae0-e88d-416d-b644-26816ca77338\",\"type\":\"Toolbar\"},{\"attributes\":{\"callback\":null,\"column_names\":[\"x\",\"y\"],\"data\":{\"x\":{\"__ndarray__\":\"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\",\"dtype\":\"float64\",\"shape\":[203]},\"y\":{\"__ndarray__\":\"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\",\"dtype\":\"float64\",\"shape\":[203]}}},\"id\":\"7ab30abf-f0bc-4487-bf79-c94f384613b3\",\"type\":\"ColumnDataSource\"},{\"attributes\":{\"callback\":null},\"id\":\"c65e08ae-277e-4e3f-84ad-6362d9a4f48b\",\"type\":\"DataRange1d\"},{\"attributes\":{\"months\":[0,6]},\"id\":\"104eb211-7762-4931-91f3-fd1317269682\",\"type\":\"MonthsTicker\"},{\"attributes\":{\"days\":[1,15]},\"id\":\"bf6ab675-337b-4c95-8ae4-4b64a4fbc983\",\"type\":\"DaysTicker\"},{\"attributes\":{\"plot\":{\"id\":\"2c974156-13d0-4681-8cae-ccc0fb537ca7\",\"subtype\":\"Figure\",\"type\":\"Plot\"}},\"id\":\"bb9b6ce9-91d3-46b2-91be-3f8a95cd56ad\",\"type\":\"PanTool\"},{\"attributes\":{\"base\":24,\"mantissas\":[1,2,4,6,8,12],\"max_interval\":43200000.0,\"min_interval\":3600000.0,\"num_minor_ticks\":0},\"id\":\"f10a1153-d645-4b7f-b905-5a1750b6eedf\",\"type\":\"AdaptiveTicker\"},{\"attributes\":{\"plot\":{\"id\":\"f358df95-e15c-488a-9fe3-a0289f890263\",\"subtype\":\"Figure\",\"type\":\"Plot\"}},\"id\":\"654a9161-8584-453c-a6b3-c543da34af13\",\"type\":\"WheelZoomTool\"},{\"attributes\":{\"plot\":{\"id\":\"2c974156-13d0-4681-8cae-ccc0fb537ca7\",\"subtype\":\"Figure\",\"type\":\"Plot\"}},\"id\":\"e7a09819-0dff-4fbd-a26a-d95f2f9e1dda\",\"type\":\"ResetTool\"},{\"attributes\":{\"label\":{\"value\":\"Absolute Values\"},\"renderers\":[{\"id\":\"1e0957ed-93b4-4981-9ab0-89868aefc15b\",\"type\":\"GlyphRenderer\"}]},\"id\":\"139454cd-c0d5-42f0-9d1c-1f4ace721b39\",\"type\":\"LegendItem\"},{\"attributes\":{\"background_fill_color\":{\"value\":\"beige\"},\"below\":[{\"id\":\"a5f61fa7-5fa6-4fa3-8355-8f5b37028661\",\"type\":\"DatetimeAxis\"}],\"border_fill_color\":{\"value\":\"whitesmoke\"},\"left\":[{\"id\":\"d418bb8e-9d81-4a6c-a45e-71dfbe9fc22e\",\"type\":\"LinearAxis\"}],\"plot_height\":450,\"plot_width\":470,\"renderers\":[{\"id\":\"a5f61fa7-5fa6-4fa3-8355-8f5b37028661\",\"type\":\"DatetimeAxis\"},{\"id\":\"a2597e92-a565-4227-8366-977c099904fe\",\"type\":\"Grid\"},{\"id\":\"d418bb8e-9d81-4a6c-a45e-71dfbe9fc22e\",\"type\":\"LinearAxis\"},{\"id\":\"19104e37-c15d-4fef-93ac-8b080d4f1eb4\",\"type\":\"Grid\"},{\"id\":\"92dc52ec-3d59-4df8-8b6b-156bdeea89bc\",\"type\":\"BoxAnnotation\"},{\"id\":\"86d927f1-adf5-4f4b-831c-0eae721e36ab\",\"type\":\"Legend\"},{\"id\":\"5802130d-b0a9-4e57-b6d2-e087822e9b6a\",\"type\":\"GlyphRenderer\"},{\"id\":\"60ca8f82-084a-467b-ad1c-dcb8af956f72\",\"type\":\"GlyphRenderer\"}],\"title\":{\"id\":\"c356bc0f-e269-4346-8030-5aa3a97d9646\",\"type\":\"Title\"},\"tool_events\":{\"id\":\"4a4e910b-d56a-4e4e-8b8e-a99e86a2f827\",\"type\":\"ToolEvents\"},\"toolbar\":{\"id\":\"77e2498b-b8db-4037-bf49-835801f8a1b3\",\"type\":\"Toolbar\"},\"x_range\":{\"id\":\"c65e08ae-277e-4e3f-84ad-6362d9a4f48b\",\"type\":\"DataRange1d\"},\"y_range\":{\"id\":\"58fcd4e6-b386-4c4a-bb9d-068de1ee8a6a\",\"type\":\"DataRange1d\"}},\"id\":\"2c974156-13d0-4681-8cae-ccc0fb537ca7\",\"subtype\":\"Figure\",\"type\":\"Plot\"},{\"attributes\":{\"data_source\":{\"id\":\"1f5470db-ef23-47eb-8d7b-b6a740200a7f\",\"type\":\"ColumnDataSource\"},\"glyph\":{\"id\":\"f58161fa-8fd8-4dd2-b1f6-883bd008bb04\",\"type\":\"Line\"},\"hover_glyph\":null,\"nonselection_glyph\":{\"id\":\"bd3221ee-1e22-4638-9811-1075cc14be06\",\"type\":\"Line\"},\"selection_glyph\":null},\"id\":\"1e0957ed-93b4-4981-9ab0-89868aefc15b\",\"type\":\"GlyphRenderer\"},{\"attributes\":{},\"id\":\"33690c26-9a21-40fc-8992-8e2e60774c12\",\"type\":\"BasicTicker\"},{\"attributes\":{\"plot\":null,\"text\":\"Exchange rate day difference (\\u00a3 to Euro)\"},\"id\":\"447c06c6-5a4c-442f-963a-70acc52a6af9\",\"type\":\"Title\"},{\"attributes\":{\"months\":[0,2,4,6,8,10]},\"id\":\"a1d9892c-0761-4e2e-aaa0-8aa5a205eec8\",\"type\":\"MonthsTicker\"},{\"attributes\":{\"data_source\":{\"id\":\"8cbb88e8-e113-455d-a6bc-69b2d0967e5f\",\"type\":\"ColumnDataSource\"},\"glyph\":{\"id\":\"ae8ee5bc-3497-4991-b8a0-60543b2bb0f7\",\"type\":\"Line\"},\"hover_glyph\":null,\"nonselection_glyph\":{\"id\":\"817f558d-7057-4851-8011-c050ad66ca4b\",\"type\":\"Line\"},\"selection_glyph\":null},\"id\":\"5802130d-b0a9-4e57-b6d2-e087822e9b6a\",\"type\":\"GlyphRenderer\"},{\"attributes\":{\"plot\":{\"id\":\"f358df95-e15c-488a-9fe3-a0289f890263\",\"subtype\":\"Figure\",\"type\":\"Plot\"},\"ticker\":{\"id\":\"96abf32e-6041-47fd-9986-17ea1025414d\",\"type\":\"DatetimeTicker\"}},\"id\":\"da3c57ab-31df-4c97-bdea-dc40a4de94a8\",\"type\":\"Grid\"},{\"attributes\":{\"axis_label\":\"Date\",\"formatter\":{\"id\":\"ada76c95-1c03-45c9-8a11-390920753e7a\",\"type\":\"DatetimeTickFormatter\"},\"plot\":{\"id\":\"2c974156-13d0-4681-8cae-ccc0fb537ca7\",\"subtype\":\"Figure\",\"type\":\"Plot\"},\"ticker\":{\"id\":\"49853bd1-c462-4ba0-a1cc-0f7e084fa568\",\"type\":\"DatetimeTicker\"}},\"id\":\"a5f61fa7-5fa6-4fa3-8355-8f5b37028661\",\"type\":\"DatetimeAxis\"},{\"attributes\":{\"months\":[0,6]},\"id\":\"937544ea-6f3c-490c-9dda-0529a2df046a\",\"type\":\"MonthsTicker\"}],\"root_ids\":[\"9d311337-179c-4a4b-b218-b8da4347c629\"]},\"title\":\"Bokeh Application\",\"version\":\"0.12.4\"}};\n",
       "            var render_items = [{\"docid\":\"85162209-e72d-4475-b2a4-1678d7145cc1\",\"elementid\":\"c4f88ecd-ad8f-436c-9ea5-a176b706217c\",\"modelid\":\"9d311337-179c-4a4b-b218-b8da4347c629\"}];\n",
       "            \n",
       "            Bokeh.embed.embed_items(docs_json, render_items);\n",
       "          };\n",
       "          if (document.readyState != \"loading\") fn();\n",
       "          else document.addEventListener(\"DOMContentLoaded\", fn);\n",
       "        })();\n",
       "      },\n",
       "      function(Bokeh) {\n",
       "      }\n",
       "    ];\n",
       "  \n",
       "    function run_inline_js() {\n",
       "      \n",
       "      if ((window.Bokeh !== undefined) || (force === true)) {\n",
       "        for (var i = 0; i < inline_js.length; i++) {\n",
       "          inline_js[i](window.Bokeh);\n",
       "        }if (force === true) {\n",
       "          display_loaded();\n",
       "        }} else if (Date.now() < window._bokeh_timeout) {\n",
       "        setTimeout(run_inline_js, 100);\n",
       "      } else if (!window._bokeh_failed_load) {\n",
       "        console.log(\"Bokeh: BokehJS failed to load within specified timeout.\");\n",
       "        window._bokeh_failed_load = true;\n",
       "      } else if (force !== true) {\n",
       "        var cell = $(document.getElementById(\"c4f88ecd-ad8f-436c-9ea5-a176b706217c\")).parents('.cell').data().cell;\n",
       "        cell.output_area.append_execute_result(NB_LOAD_WARNING)\n",
       "      }\n",
       "  \n",
       "    }\n",
       "  \n",
       "    if (window._bokeh_is_loading === 0) {\n",
       "      console.log(\"Bokeh: BokehJS loaded, going straight to plotting\");\n",
       "      run_inline_js();\n",
       "    } else {\n",
       "      load_libs(js_urls, function() {\n",
       "        console.log(\"Bokeh: BokehJS plotting callback run at\", now());\n",
       "        run_inline_js();\n",
       "      });\n",
       "    }\n",
       "  }(this));\n",
       "</script>"
      ]
     },
     "metadata": {},
     "output_type": "display_data"
    }
   ],
   "source": [
    "# add plots of exchange rate to bokeh\n",
    "# set figure 1 properties\n",
    "p1 = figure(title=\"Exchange rate day difference (£ to Euro)\",\n",
    "            x_axis_label=\"Date\",\n",
    "            y_axis_label='Day on day difference',\n",
    "            x_axis_type=\"datetime\",\n",
    "            plot_width=470,\n",
    "            plot_height=450,\n",
    "            background_fill = \"beige\",border_fill = \"whitesmoke\")\n",
    "\n",
    "# plot figure 1 with absolute and mean values\n",
    "p1.line(x.Date,x.Rate,legend='Absolute Values')\n",
    "p1.line(x.Date,pd.rolling_mean(x.Rate,window=5),legend='Rolling Mean (5 day window)',color='red')\n",
    "# set figure 2 properties\n",
    "p2 = figure(title=\"Exchange rate day difference (£ to Euro)\",\n",
    "            x_axis_label=\"Date\",\n",
    "            y_axis_label='Day on day difference',\n",
    "            x_axis_type=\"datetime\",\n",
    "            plot_width=470,\n",
    "            plot_height=450,\n",
    "            background_fill = \"beige\",border_fill = \"whitesmoke\")\n",
    "# plot figure 2 with absolute and mean values\n",
    "p2.line(x.Date,x.Rate,legend='Absolute Values')\n",
    "p2.line(x.Date,pd.rolling_mean(x.Rate,window=30),legend='Rolling Mean (30 day window)',color='red')\n",
    "# plot the line charts horizontally\n",
    "p = hplot(p1, p2)\n",
    "show(p)"
   ]
  },
  {
   "cell_type": "markdown",
   "metadata": {
    "deletable": true,
    "editable": true
   },
   "source": [
    "## 3. Pipeline"
   ]
  },
  {
   "cell_type": "markdown",
   "metadata": {
    "deletable": true,
    "editable": true
   },
   "source": [
    "### Task A: Select a dataset and make initial load and transformations"
   ]
  },
  {
   "cell_type": "code",
   "execution_count": 63,
   "metadata": {
    "collapsed": false,
    "deletable": true,
    "editable": true
   },
   "outputs": [
    {
     "name": "stdout",
     "output_type": "stream",
     "text": [
      "+----------+--------------------+\n",
      "|        id|                text|\n",
      "+----------+--------------------+\n",
      "|2016-06-03|daily report frid...|\n",
      "|2016-06-06|daily report mond...|\n",
      "|2016-06-07|daily report tues...|\n",
      "|2016-06-08|daily report wedn...|\n",
      "|2016-06-09|daily report thur...|\n",
      "+----------+--------------------+\n",
      "only showing top 5 rows\n",
      "\n"
     ]
    }
   ],
   "source": [
    "# Create dataframe of filename - text with numbers and punctuation removed\n",
    "\n",
    "# Set stop word parameters-for stopwords removal the stop_words pachage was used\n",
    "# The  StopWordsRemover from pyspark.ml.features was also tested extensively but was not effective or buggy\n",
    "stop_words = get_stop_words('english')\n",
    "\n",
    "def remove_n_p(text): # function that removes punctuation and numbers as well lowercasing the text\n",
    "    text = re.sub(r'\\d+','', text) # remove numbers from texts with regular expressions <<<<<\n",
    "    text = re.sub(r'\\[.*?\\]|\\(.*?\\)|\\W+', ' ', text)# remove punctuation from texts with regular expressions <<<<<\n",
    "    text=text.lower() # lowercase the text\n",
    "    text = ' '.join([word for word in text.split() if word not in stop_words]) # remove stopwords\n",
    "    return text\n",
    "\n",
    "# extract date from filename function \n",
    "def trim_filename(filename):\n",
    "    date=filename[-14:-4] # extract the timestamp from end of the file\n",
    "    return date # return date\n",
    "    \n",
    "# sparksession added for spark dataframes\n",
    "spark = SparkSession.builder.getOrCreate()\n",
    "\n",
    "def make_dataFrame(dirPath): # make a dataFrame with filename and text \n",
    "    ft_RDD = sc.wholeTextFiles(dirPath) # add code to create an RDD with wholeTextFiles\n",
    "    spm_t_RDD = ft_RDD.map(lambda ft: (trim_filename(ft[0]), remove_n_p(ft[1]))) # create RDD with filename and call remove_n_p function to text\n",
    "    file_text_df = spark.createDataFrame(spm_t_RDD,schema=['id','text']) # create a dataFrame - filename - text\n",
    "    return file_text_df\n",
    "\n",
    "# file_text_df = make_dataFrame(os.getcwd()+'/textfiles') # assign dataframe to file_text_df\n",
    "# file_text_df.show(5)"
   ]
  },
  {
   "cell_type": "code",
   "execution_count": 74,
   "metadata": {
    "collapsed": false,
    "deletable": true,
    "editable": true
   },
   "outputs": [
    {
     "name": "stdout",
     "output_type": "stream",
     "text": [
      "+----------+--------------------+-------+\n",
      "|        id|                text|  label|\n",
      "+----------+--------------------+-------+\n",
      "|2017-02-24|daily report frid...|-0.0069|\n",
      "|2017-02-24|friday february p...|-0.0069|\n",
      "|2016-07-06|daily report wedn...| 0.0041|\n",
      "|2016-07-06|wednesday july p ...| 0.0041|\n",
      "|2017-03-08|daily report wedn...|-0.0044|\n",
      "+----------+--------------------+-------+\n",
      "only showing top 5 rows\n",
      "\n"
     ]
    }
   ],
   "source": [
    "# Convert currency pandas dataframe to Spark Dataframe and specify datatypes\n",
    "\n",
    "def currency_df(data_xr):# function to create dataframe\n",
    "    data_xr_DF=spark.createDataFrame(data_xr,schema=['Date','Rate']) # create dataframe\n",
    "    data_xr_DF=data_xr_DF.withColumn('Rate', data_xr_DF['Rate'].cast('float'))# convert rate to float\n",
    "    return data_xr_DF # return spark dataframe\n",
    "\n",
    "# function to join the two dataframes on dates, the exchange rate dates have been shifted back by one day\n",
    "# in order to account for the delay of the parliament publication\n",
    "def connect_xr_df(file_text_df,data_xr_DF): # the function takes the two inpurts of file_text_df and the data_xr_DF from the previous function\n",
    "    file_text_Date_rate=file_text_df.join(data_xr_DF,file_text_df.id==data_xr_DF.Date,'left_outer') # the exchange rates were connected to the timestamp of the parliament files with a matching left outer join\n",
    "    file_text_Date_rate.createOrReplaceTempView(\"temp\") # create a temporary sql view\n",
    "    file_text_Date_rate_sql = spark.sql(\"SELECT id,text,Rate as label FROM temp\") # select statement of the three columns required for analysis and relabeling\n",
    "    return file_text_Date_rate_sql # return the dataframe for analysis\n",
    "\n",
    "id_text_label=connect_xr_df(make_dataFrame(os.getcwd()+'/textfiles'),currency_df(data_xr))\n",
    "id_text_label.show(5)"
   ]
  },
  {
   "cell_type": "markdown",
   "metadata": {},
   "source": [
    "### Task B: Implement a machine learning pipeline in Spark, including feature extractors, transformers, and/or selectors. "
   ]
  },
  {
   "cell_type": "markdown",
   "metadata": {},
   "source": [
    "### Task C: Evaluate the performance of your pipeline using training and test set "
   ]
  }
 ],
 "metadata": {
  "anaconda-cloud": {},
  "kernelspec": {
   "display_name": "Python [default]",
   "language": "python",
   "name": "python3"
  },
  "language_info": {
   "codemirror_mode": {
    "name": "ipython",
    "version": 3
   },
   "file_extension": ".py",
   "mimetype": "text/x-python",
   "name": "python",
   "nbconvert_exporter": "python",
   "pygments_lexer": "ipython3",
   "version": "3.5.3"
  }
 },
 "nbformat": 4,
 "nbformat_minor": 2
}
